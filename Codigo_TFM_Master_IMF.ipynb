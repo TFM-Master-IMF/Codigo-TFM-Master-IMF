{
 "cells": [
  {
   "cell_type": "markdown",
   "metadata": {},
   "source": [
    "## Importación de módulos "
   ]
  },
  {
   "cell_type": "code",
   "execution_count": 1,
   "metadata": {},
   "outputs": [],
   "source": [
    "# Librerías dedicadas al procesamiento de los datos\n",
    "import numpy as np\n",
    "import pandas as pd\n",
    "\n",
    "# Librerías para la visualización de los datos\n",
    "import matplotlib.pyplot as plt\n",
    "import seaborn as sns\n",
    "\n",
    "# Librerías personales\n",
    "from lectura_datos import lectura_inicial_datos"
   ]
  },
  {
   "cell_type": "markdown",
   "metadata": {},
   "source": [
    "## Lectura de los datos del Bitcoin"
   ]
  },
  {
   "cell_type": "markdown",
   "metadata": {},
   "source": [
    "Los datos escogidos en esta primera aproximación al problema de la predicción del precio del Bitcoin se encuentran en la siguiente dirección web: **https://www.kaggle.com/mczielinski/bitcoin-historical-data/activity**. El rango temporal de dichos datos comienza el 1 de Enero de 2012 y finaliza el 31 de Diciembre de 2020, con un intervalo de 1 minuto entre ellos. El peso de la base de datos es de 300 MB y contiene más de dos millones de registros. \n",
    "\n",
    "Las variables que componen la base de datos a explorar son las siguientes: \n",
    "* Tiempo del registro (en modo Unix-timestamp).\n",
    "* Valor de apertura endolares(USD) del precio en el minuto registrado.\n",
    "* Valor más alto del precioen el minuto registrado.\n",
    "* Valor más bajo del precio en el minuto registrado. \n",
    "* Valor de cierre del precio en el minuto registrado.\n",
    "* Volumen en el minutoregistrado del bitcoin.\n",
    "* Volumen en el minuto registrado de la divisa (USD).\n",
    "* Precio ponderado en dolares en ese minuto registrado. \n",
    "\n",
    "Las filas o registros sin ninguna operación o actividad están instanciadas con valores de tipo *NaN* en sus columnas (exceptuando la fecha). La falta de registros, o presencia de saltos, puede deberse a la ausencia de intercambios, a problemas con su API o a errores técnicos en la presentación o recopilación de datos."
   ]
  },
  {
   "cell_type": "code",
   "execution_count": 2,
   "metadata": {},
   "outputs": [],
   "source": [
    "raw_data_bitcoin = lectura_inicial_datos()"
   ]
  },
  {
   "cell_type": "markdown",
   "metadata": {},
   "source": [
    "## 1. Análisis Exploratorio\n",
    "El proceso de exploración de los datos se ha realizado para:\n",
    "1. Comprender los datos disponibles.\n",
    "2. Determinar la cantidad de valores nulos y sus posibles causas.\n",
    "3. Encontrar correlaciones entre las variables.\n"
   ]
  },
  {
   "cell_type": "markdown",
   "metadata": {},
   "source": [
    "### 1.1 Observaciones preliminares"
   ]
  },
  {
   "cell_type": "code",
   "execution_count": 8,
   "metadata": {},
   "outputs": [
    {
     "data": {
      "text/html": [
       "<div>\n",
       "<style scoped>\n",
       "    .dataframe tbody tr th:only-of-type {\n",
       "        vertical-align: middle;\n",
       "    }\n",
       "\n",
       "    .dataframe tbody tr th {\n",
       "        vertical-align: top;\n",
       "    }\n",
       "\n",
       "    .dataframe thead th {\n",
       "        text-align: right;\n",
       "    }\n",
       "</style>\n",
       "<table border=\"1\" class=\"dataframe\">\n",
       "  <thead>\n",
       "    <tr style=\"text-align: right;\">\n",
       "      <th></th>\n",
       "      <th>Timestamp</th>\n",
       "      <th>Open</th>\n",
       "      <th>High</th>\n",
       "      <th>Low</th>\n",
       "      <th>Close</th>\n",
       "      <th>Volume_(BTC)</th>\n",
       "      <th>Volume_(Currency)</th>\n",
       "      <th>Weighted_Price</th>\n",
       "    </tr>\n",
       "  </thead>\n",
       "  <tbody>\n",
       "    <tr>\n",
       "      <th>0</th>\n",
       "      <td>2011-12-31 08:52:00</td>\n",
       "      <td>4.39</td>\n",
       "      <td>4.39</td>\n",
       "      <td>4.39</td>\n",
       "      <td>4.39</td>\n",
       "      <td>0.455581</td>\n",
       "      <td>2.0</td>\n",
       "      <td>4.39</td>\n",
       "    </tr>\n",
       "    <tr>\n",
       "      <th>1</th>\n",
       "      <td>2011-12-31 08:53:00</td>\n",
       "      <td>NaN</td>\n",
       "      <td>NaN</td>\n",
       "      <td>NaN</td>\n",
       "      <td>NaN</td>\n",
       "      <td>NaN</td>\n",
       "      <td>NaN</td>\n",
       "      <td>NaN</td>\n",
       "    </tr>\n",
       "    <tr>\n",
       "      <th>2</th>\n",
       "      <td>2011-12-31 08:54:00</td>\n",
       "      <td>NaN</td>\n",
       "      <td>NaN</td>\n",
       "      <td>NaN</td>\n",
       "      <td>NaN</td>\n",
       "      <td>NaN</td>\n",
       "      <td>NaN</td>\n",
       "      <td>NaN</td>\n",
       "    </tr>\n",
       "    <tr>\n",
       "      <th>3</th>\n",
       "      <td>2011-12-31 08:55:00</td>\n",
       "      <td>NaN</td>\n",
       "      <td>NaN</td>\n",
       "      <td>NaN</td>\n",
       "      <td>NaN</td>\n",
       "      <td>NaN</td>\n",
       "      <td>NaN</td>\n",
       "      <td>NaN</td>\n",
       "    </tr>\n",
       "    <tr>\n",
       "      <th>4</th>\n",
       "      <td>2011-12-31 08:56:00</td>\n",
       "      <td>NaN</td>\n",
       "      <td>NaN</td>\n",
       "      <td>NaN</td>\n",
       "      <td>NaN</td>\n",
       "      <td>NaN</td>\n",
       "      <td>NaN</td>\n",
       "      <td>NaN</td>\n",
       "    </tr>\n",
       "  </tbody>\n",
       "</table>\n",
       "</div>"
      ],
      "text/plain": [
       "            Timestamp  Open  High   Low  Close  Volume_(BTC)  \\\n",
       "0 2011-12-31 08:52:00  4.39  4.39  4.39   4.39      0.455581   \n",
       "1 2011-12-31 08:53:00   NaN   NaN   NaN    NaN           NaN   \n",
       "2 2011-12-31 08:54:00   NaN   NaN   NaN    NaN           NaN   \n",
       "3 2011-12-31 08:55:00   NaN   NaN   NaN    NaN           NaN   \n",
       "4 2011-12-31 08:56:00   NaN   NaN   NaN    NaN           NaN   \n",
       "\n",
       "   Volume_(Currency)  Weighted_Price  \n",
       "0                2.0            4.39  \n",
       "1                NaN             NaN  \n",
       "2                NaN             NaN  \n",
       "3                NaN             NaN  \n",
       "4                NaN             NaN  "
      ]
     },
     "execution_count": 8,
     "metadata": {},
     "output_type": "execute_result"
    }
   ],
   "source": [
    "raw_data_bitcoin.head()"
   ]
  },
  {
   "cell_type": "code",
   "execution_count": 9,
   "metadata": {},
   "outputs": [
    {
     "data": {
      "text/plain": [
       "(1048575, 8)"
      ]
     },
     "execution_count": 9,
     "metadata": {},
     "output_type": "execute_result"
    }
   ],
   "source": [
    "raw_data_bitcoin.shape"
   ]
  },
  {
   "cell_type": "markdown",
   "metadata": {},
   "source": [
    "* La base de datos escogida está compuesta por 8 columnas y 1048575 filas. \n",
    "* 'Weighted_Price' es la variable objetivo del dataset.\n",
    "* Las variables 'Timestamp', 'Open', 'High', 'Low', 'Close', 'Volume_(BTC)' y 'Volume_(Currency)' serán utilizadas por los distintos modelos para obtener las predicciones deseadas."
   ]
  },
  {
   "cell_type": "code",
   "execution_count": 4,
   "metadata": {},
   "outputs": [
    {
     "name": "stdout",
     "output_type": "stream",
     "text": [
      "<class 'pandas.core.frame.DataFrame'>\n",
      "RangeIndex: 1048575 entries, 0 to 1048574\n",
      "Data columns (total 8 columns):\n",
      " #   Column             Non-Null Count    Dtype         \n",
      "---  ------             --------------    -----         \n",
      " 0   Timestamp          1048575 non-null  datetime64[ns]\n",
      " 1   Open               342169 non-null   float64       \n",
      " 2   High               342169 non-null   float64       \n",
      " 3   Low                342169 non-null   float64       \n",
      " 4   Close              342169 non-null   float64       \n",
      " 5   Volume_(BTC)       342169 non-null   float64       \n",
      " 6   Volume_(Currency)  342169 non-null   float64       \n",
      " 7   Weighted_Price     342169 non-null   float64       \n",
      "dtypes: datetime64[ns](1), float64(7)\n",
      "memory usage: 64.0 MB\n"
     ]
    }
   ],
   "source": [
    "raw_data_bitcoin.info()"
   ]
  },
  {
   "cell_type": "markdown",
   "metadata": {},
   "source": [
    "**Variables numéricas**"
   ]
  },
  {
   "cell_type": "code",
   "execution_count": 10,
   "metadata": {},
   "outputs": [
    {
     "data": {
      "text/plain": [
       "Index(['Open', 'High', 'Low', 'Close', 'Volume_(BTC)', 'Volume_(Currency)',\n",
       "       'Weighted_Price'],\n",
       "      dtype='object')"
      ]
     },
     "execution_count": 10,
     "metadata": {},
     "output_type": "execute_result"
    }
   ],
   "source": [
    "# Lista de las variables numéricas del dataset\n",
    "raw_data_bitcoin.select_dtypes(include=['number']).columns"
   ]
  },
  {
   "cell_type": "markdown",
   "metadata": {},
   "source": [
    "Características generales de las variables númericas:"
   ]
  },
  {
   "cell_type": "code",
   "execution_count": 11,
   "metadata": {},
   "outputs": [
    {
     "data": {
      "text/html": [
       "<div>\n",
       "<style scoped>\n",
       "    .dataframe tbody tr th:only-of-type {\n",
       "        vertical-align: middle;\n",
       "    }\n",
       "\n",
       "    .dataframe tbody tr th {\n",
       "        vertical-align: top;\n",
       "    }\n",
       "\n",
       "    .dataframe thead th {\n",
       "        text-align: right;\n",
       "    }\n",
       "</style>\n",
       "<table border=\"1\" class=\"dataframe\">\n",
       "  <thead>\n",
       "    <tr style=\"text-align: right;\">\n",
       "      <th></th>\n",
       "      <th>Open</th>\n",
       "      <th>High</th>\n",
       "      <th>Low</th>\n",
       "      <th>Close</th>\n",
       "      <th>Volume_(BTC)</th>\n",
       "      <th>Volume_(Currency)</th>\n",
       "      <th>Weighted_Price</th>\n",
       "    </tr>\n",
       "  </thead>\n",
       "  <tbody>\n",
       "    <tr>\n",
       "      <th>count</th>\n",
       "      <td>342169.000</td>\n",
       "      <td>342169.000</td>\n",
       "      <td>342169.000</td>\n",
       "      <td>342169.000</td>\n",
       "      <td>342169.000</td>\n",
       "      <td>342169.000</td>\n",
       "      <td>342169.000</td>\n",
       "    </tr>\n",
       "    <tr>\n",
       "      <th>mean</th>\n",
       "      <td>229.456</td>\n",
       "      <td>229.802</td>\n",
       "      <td>229.065</td>\n",
       "      <td>229.440</td>\n",
       "      <td>16.275</td>\n",
       "      <td>4485.655</td>\n",
       "      <td>229.420</td>\n",
       "    </tr>\n",
       "    <tr>\n",
       "      <th>std</th>\n",
       "      <td>271.717</td>\n",
       "      <td>272.238</td>\n",
       "      <td>271.142</td>\n",
       "      <td>271.711</td>\n",
       "      <td>48.129</td>\n",
       "      <td>19512.654</td>\n",
       "      <td>271.665</td>\n",
       "    </tr>\n",
       "    <tr>\n",
       "      <th>min</th>\n",
       "      <td>3.800</td>\n",
       "      <td>3.800</td>\n",
       "      <td>3.800</td>\n",
       "      <td>3.800</td>\n",
       "      <td>0.000</td>\n",
       "      <td>0.000</td>\n",
       "      <td>3.800</td>\n",
       "    </tr>\n",
       "    <tr>\n",
       "      <th>25%</th>\n",
       "      <td>93.490</td>\n",
       "      <td>93.540</td>\n",
       "      <td>93.420</td>\n",
       "      <td>93.490</td>\n",
       "      <td>0.990</td>\n",
       "      <td>99.000</td>\n",
       "      <td>93.483</td>\n",
       "    </tr>\n",
       "    <tr>\n",
       "      <th>50%</th>\n",
       "      <td>121.110</td>\n",
       "      <td>121.180</td>\n",
       "      <td>121.000</td>\n",
       "      <td>121.090</td>\n",
       "      <td>3.026</td>\n",
       "      <td>328.039</td>\n",
       "      <td>121.103</td>\n",
       "    </tr>\n",
       "    <tr>\n",
       "      <th>75%</th>\n",
       "      <td>194.300</td>\n",
       "      <td>194.460</td>\n",
       "      <td>194.150</td>\n",
       "      <td>194.300</td>\n",
       "      <td>12.000</td>\n",
       "      <td>1782.326</td>\n",
       "      <td>194.300</td>\n",
       "    </tr>\n",
       "    <tr>\n",
       "      <th>max</th>\n",
       "      <td>1163.000</td>\n",
       "      <td>1163.000</td>\n",
       "      <td>1162.990</td>\n",
       "      <td>1163.000</td>\n",
       "      <td>2958.478</td>\n",
       "      <td>1543034.758</td>\n",
       "      <td>1163.000</td>\n",
       "    </tr>\n",
       "  </tbody>\n",
       "</table>\n",
       "</div>"
      ],
      "text/plain": [
       "             Open        High         Low       Close  Volume_(BTC)  \\\n",
       "count  342169.000  342169.000  342169.000  342169.000    342169.000   \n",
       "mean      229.456     229.802     229.065     229.440        16.275   \n",
       "std       271.717     272.238     271.142     271.711        48.129   \n",
       "min         3.800       3.800       3.800       3.800         0.000   \n",
       "25%        93.490      93.540      93.420      93.490         0.990   \n",
       "50%       121.110     121.180     121.000     121.090         3.026   \n",
       "75%       194.300     194.460     194.150     194.300        12.000   \n",
       "max      1163.000    1163.000    1162.990    1163.000      2958.478   \n",
       "\n",
       "       Volume_(Currency)  Weighted_Price  \n",
       "count         342169.000      342169.000  \n",
       "mean            4485.655         229.420  \n",
       "std            19512.654         271.665  \n",
       "min                0.000           3.800  \n",
       "25%               99.000          93.483  \n",
       "50%              328.039         121.103  \n",
       "75%             1782.326         194.300  \n",
       "max          1543034.758        1163.000  "
      ]
     },
     "execution_count": 11,
     "metadata": {},
     "output_type": "execute_result"
    }
   ],
   "source": [
    "raw_data_bitcoin.select_dtypes(include=['number']).describe().round(decimals = 3)"
   ]
  }
 ],
 "metadata": {
  "kernelspec": {
   "display_name": "Python 3",
   "language": "python",
   "name": "python3"
  },
  "language_info": {
   "codemirror_mode": {
    "name": "ipython",
    "version": 3
   },
   "file_extension": ".py",
   "mimetype": "text/x-python",
   "name": "python",
   "nbconvert_exporter": "python",
   "pygments_lexer": "ipython3",
   "version": "3.8.5"
  }
 },
 "nbformat": 4,
 "nbformat_minor": 4
}

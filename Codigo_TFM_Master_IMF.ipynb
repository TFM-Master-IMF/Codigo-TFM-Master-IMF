{
 "cells": [
  {
   "cell_type": "markdown",
   "metadata": {},
   "source": [
    "## Importación de módulos "
   ]
  },
  {
   "cell_type": "code",
   "execution_count": 1,
   "metadata": {},
   "outputs": [],
   "source": [
    "# Librerías dedicadas al procesamiento de los datos\n",
    "import numpy as np\n",
    "import pandas as pd\n",
    "\n",
    "# Librerías para la visualización de los datos\n",
    "import matplotlib.pyplot as plt\n",
    "import seaborn as sns\n",
    "\n",
    "# Librerías personales\n",
    "from Lectura_datos.Lectura_datos import lectura_inicial_datos"
   ]
  },
  {
   "cell_type": "markdown",
   "metadata": {},
   "source": [
    "## Lectura de los datos del Bitcoin"
   ]
  },
  {
   "cell_type": "markdown",
   "metadata": {},
   "source": [
    "Los datos escogidos en esta primera aproximación al problema de la predicción del precio del Bitcoin se encuentran en la siguiente dirección web: **https://www.kaggle.com/mczielinski/bitcoin-historical-data/activity**. El rango temporal de dichos datos comienza el 1 de Enero de 2012 y finaliza el 31 de Diciembre de 2020, con un intervalo de 1 minuto entre ellos. El peso de la base de datos es de 300 MB y contiene más de dos millones de registros. \n",
    "\n",
    "Las variables que componen la base de datos a explorar son las siguientes: \n",
    "* Tiempo del registro (en modo Unix-timestamp).\n",
    "* Valor de apertura endolares(USD) del precio en el minuto registrado.\n",
    "* Valor más alto del precioen el minuto registrado.\n",
    "* Valor más bajo del precio en el minuto registrado. \n",
    "* Valor de cierre del precio en el minuto registrado.\n",
    "* Volumen en el minutoregistrado del bitcoin.\n",
    "* Volumen en el minuto registrado de la divisa (USD).\n",
    "* Precio ponderado en dolares en ese minuto registrado. \n",
    "\n",
    "Las filas o registros sin ninguna operación o actividad están instanciadas con valores de tipo *NaN* en sus columnas (exceptuando la fecha). La falta de registros, o presencia de saltos, puede deberse a la ausencia de intercambios, a problemas con su API o a errores técnicos en la presentación o recopilación de datos."
   ]
  },
  {
   "cell_type": "code",
   "execution_count": 2,
   "metadata": {},
   "outputs": [],
   "source": [
    "raw_data_bitcoin = lectura_inicial_datos()"
   ]
  },
  {
   "cell_type": "markdown",
   "metadata": {},
   "source": [
    "## 1. Análisis Exploratorio\n",
    "El proceso de exploración de los datos se ha realizado para:\n",
    "1. Comprender los datos disponibles.\n",
    "2. Determinar la cantidad de valores nulos y sus posibles causas.\n",
    "3. Encontrar correlaciones entre las variables.\n"
   ]
  },
  {
   "cell_type": "markdown",
   "metadata": {},
   "source": [
    "### 1.1 Observaciones preliminares"
   ]
  },
  {
   "cell_type": "code",
   "execution_count": 3,
   "metadata": {},
   "outputs": [
    {
     "data": {
      "text/html": [
       "<div>\n",
       "<style scoped>\n",
       "    .dataframe tbody tr th:only-of-type {\n",
       "        vertical-align: middle;\n",
       "    }\n",
       "\n",
       "    .dataframe tbody tr th {\n",
       "        vertical-align: top;\n",
       "    }\n",
       "\n",
       "    .dataframe thead th {\n",
       "        text-align: right;\n",
       "    }\n",
       "</style>\n",
       "<table border=\"1\" class=\"dataframe\">\n",
       "  <thead>\n",
       "    <tr style=\"text-align: right;\">\n",
       "      <th></th>\n",
       "      <th>Open</th>\n",
       "      <th>High</th>\n",
       "      <th>Low</th>\n",
       "      <th>Close</th>\n",
       "      <th>Volume_(BTC)</th>\n",
       "      <th>Volume_(Currency)</th>\n",
       "      <th>Weighted_Price</th>\n",
       "    </tr>\n",
       "    <tr>\n",
       "      <th>Timestamp</th>\n",
       "      <th></th>\n",
       "      <th></th>\n",
       "      <th></th>\n",
       "      <th></th>\n",
       "      <th></th>\n",
       "      <th></th>\n",
       "      <th></th>\n",
       "    </tr>\n",
       "  </thead>\n",
       "  <tbody>\n",
       "    <tr>\n",
       "      <th>2011-12-31 08:52:00</th>\n",
       "      <td>4.39</td>\n",
       "      <td>4.39</td>\n",
       "      <td>4.39</td>\n",
       "      <td>4.39</td>\n",
       "      <td>0.455581</td>\n",
       "      <td>2.0</td>\n",
       "      <td>4.39</td>\n",
       "    </tr>\n",
       "    <tr>\n",
       "      <th>2011-12-31 08:53:00</th>\n",
       "      <td>NaN</td>\n",
       "      <td>NaN</td>\n",
       "      <td>NaN</td>\n",
       "      <td>NaN</td>\n",
       "      <td>NaN</td>\n",
       "      <td>NaN</td>\n",
       "      <td>NaN</td>\n",
       "    </tr>\n",
       "    <tr>\n",
       "      <th>2011-12-31 08:54:00</th>\n",
       "      <td>NaN</td>\n",
       "      <td>NaN</td>\n",
       "      <td>NaN</td>\n",
       "      <td>NaN</td>\n",
       "      <td>NaN</td>\n",
       "      <td>NaN</td>\n",
       "      <td>NaN</td>\n",
       "    </tr>\n",
       "    <tr>\n",
       "      <th>2011-12-31 08:55:00</th>\n",
       "      <td>NaN</td>\n",
       "      <td>NaN</td>\n",
       "      <td>NaN</td>\n",
       "      <td>NaN</td>\n",
       "      <td>NaN</td>\n",
       "      <td>NaN</td>\n",
       "      <td>NaN</td>\n",
       "    </tr>\n",
       "    <tr>\n",
       "      <th>2011-12-31 08:56:00</th>\n",
       "      <td>NaN</td>\n",
       "      <td>NaN</td>\n",
       "      <td>NaN</td>\n",
       "      <td>NaN</td>\n",
       "      <td>NaN</td>\n",
       "      <td>NaN</td>\n",
       "      <td>NaN</td>\n",
       "    </tr>\n",
       "  </tbody>\n",
       "</table>\n",
       "</div>"
      ],
      "text/plain": [
       "                     Open  High   Low  Close  Volume_(BTC)  Volume_(Currency)  \\\n",
       "Timestamp                                                                       \n",
       "2011-12-31 08:52:00  4.39  4.39  4.39   4.39      0.455581                2.0   \n",
       "2011-12-31 08:53:00   NaN   NaN   NaN    NaN           NaN                NaN   \n",
       "2011-12-31 08:54:00   NaN   NaN   NaN    NaN           NaN                NaN   \n",
       "2011-12-31 08:55:00   NaN   NaN   NaN    NaN           NaN                NaN   \n",
       "2011-12-31 08:56:00   NaN   NaN   NaN    NaN           NaN                NaN   \n",
       "\n",
       "                     Weighted_Price  \n",
       "Timestamp                            \n",
       "2011-12-31 08:52:00            4.39  \n",
       "2011-12-31 08:53:00             NaN  \n",
       "2011-12-31 08:54:00             NaN  \n",
       "2011-12-31 08:55:00             NaN  \n",
       "2011-12-31 08:56:00             NaN  "
      ]
     },
     "execution_count": 3,
     "metadata": {},
     "output_type": "execute_result"
    }
   ],
   "source": [
    "raw_data_bitcoin.head()"
   ]
  },
  {
   "cell_type": "code",
   "execution_count": 4,
   "metadata": {},
   "outputs": [
    {
     "data": {
      "text/plain": [
       "(4727777, 7)"
      ]
     },
     "execution_count": 4,
     "metadata": {},
     "output_type": "execute_result"
    }
   ],
   "source": [
    "raw_data_bitcoin.shape"
   ]
  },
  {
   "cell_type": "markdown",
   "metadata": {},
   "source": [
    "* La base de datos escogida está compuesta por 8 columnas y 4727777 filas. \n",
    "* 'Weighted_Price' es la variable objetivo del dataset.\n",
    "* Las variables 'Timestamp', 'Open', 'High', 'Low', 'Close', 'Volume_(BTC)' y 'Volume_(Currency)' serán utilizadas por los distintos modelos para obtener las predicciones deseadas."
   ]
  },
  {
   "cell_type": "code",
   "execution_count": 5,
   "metadata": {},
   "outputs": [
    {
     "name": "stdout",
     "output_type": "stream",
     "text": [
      "<class 'pandas.core.frame.DataFrame'>\n",
      "DatetimeIndex: 4727777 entries, 2011-12-31 08:52:00 to 2020-12-31 01:00:00\n",
      "Data columns (total 7 columns):\n",
      " #   Column             Dtype  \n",
      "---  ------             -----  \n",
      " 0   Open               float64\n",
      " 1   High               float64\n",
      " 2   Low                float64\n",
      " 3   Close              float64\n",
      " 4   Volume_(BTC)       float64\n",
      " 5   Volume_(Currency)  float64\n",
      " 6   Weighted_Price     float64\n",
      "dtypes: float64(7)\n",
      "memory usage: 288.6 MB\n"
     ]
    }
   ],
   "source": [
    "raw_data_bitcoin.info()"
   ]
  },
  {
   "cell_type": "markdown",
   "metadata": {},
   "source": [
    "**Variables numéricas**"
   ]
  },
  {
   "cell_type": "code",
   "execution_count": 6,
   "metadata": {},
   "outputs": [
    {
     "data": {
      "text/plain": [
       "Index(['Open', 'High', 'Low', 'Close', 'Volume_(BTC)', 'Volume_(Currency)',\n",
       "       'Weighted_Price'],\n",
       "      dtype='object')"
      ]
     },
     "execution_count": 6,
     "metadata": {},
     "output_type": "execute_result"
    }
   ],
   "source": [
    "# Lista de las variables numéricas del dataset\n",
    "raw_data_bitcoin.select_dtypes(include=['number']).columns"
   ]
  },
  {
   "cell_type": "markdown",
   "metadata": {},
   "source": [
    "Características generales de las variables númericas:"
   ]
  },
  {
   "cell_type": "code",
   "execution_count": 7,
   "metadata": {},
   "outputs": [
    {
     "data": {
      "text/html": [
       "<div>\n",
       "<style scoped>\n",
       "    .dataframe tbody tr th:only-of-type {\n",
       "        vertical-align: middle;\n",
       "    }\n",
       "\n",
       "    .dataframe tbody tr th {\n",
       "        vertical-align: top;\n",
       "    }\n",
       "\n",
       "    .dataframe thead th {\n",
       "        text-align: right;\n",
       "    }\n",
       "</style>\n",
       "<table border=\"1\" class=\"dataframe\">\n",
       "  <thead>\n",
       "    <tr style=\"text-align: right;\">\n",
       "      <th></th>\n",
       "      <th>Open</th>\n",
       "      <th>High</th>\n",
       "      <th>Low</th>\n",
       "      <th>Close</th>\n",
       "      <th>Volume_(BTC)</th>\n",
       "      <th>Volume_(Currency)</th>\n",
       "      <th>Weighted_Price</th>\n",
       "    </tr>\n",
       "  </thead>\n",
       "  <tbody>\n",
       "    <tr>\n",
       "      <th>count</th>\n",
       "      <td>3484305.000</td>\n",
       "      <td>3484305.000</td>\n",
       "      <td>3484305.000</td>\n",
       "      <td>3484305.000</td>\n",
       "      <td>3484305.000</td>\n",
       "      <td>3.484305e+06</td>\n",
       "      <td>3484305.000</td>\n",
       "    </tr>\n",
       "    <tr>\n",
       "      <th>mean</th>\n",
       "      <td>4570.658</td>\n",
       "      <td>4573.721</td>\n",
       "      <td>4567.413</td>\n",
       "      <td>4570.624</td>\n",
       "      <td>9.423</td>\n",
       "      <td>3.315691e+04</td>\n",
       "      <td>4570.625</td>\n",
       "    </tr>\n",
       "    <tr>\n",
       "      <th>std</th>\n",
       "      <td>4775.105</td>\n",
       "      <td>4778.620</td>\n",
       "      <td>4771.352</td>\n",
       "      <td>4775.094</td>\n",
       "      <td>31.013</td>\n",
       "      <td>1.129107e+05</td>\n",
       "      <td>4775.090</td>\n",
       "    </tr>\n",
       "    <tr>\n",
       "      <th>min</th>\n",
       "      <td>3.800</td>\n",
       "      <td>3.800</td>\n",
       "      <td>1.500</td>\n",
       "      <td>1.500</td>\n",
       "      <td>0.000</td>\n",
       "      <td>0.000000e+00</td>\n",
       "      <td>3.800</td>\n",
       "    </tr>\n",
       "    <tr>\n",
       "      <th>25%</th>\n",
       "      <td>432.190</td>\n",
       "      <td>432.430</td>\n",
       "      <td>432.000</td>\n",
       "      <td>432.200</td>\n",
       "      <td>0.392</td>\n",
       "      <td>4.147940e+02</td>\n",
       "      <td>432.175</td>\n",
       "    </tr>\n",
       "    <tr>\n",
       "      <th>50%</th>\n",
       "      <td>3085.010</td>\n",
       "      <td>3093.250</td>\n",
       "      <td>3078.010</td>\n",
       "      <td>3084.410</td>\n",
       "      <td>1.937</td>\n",
       "      <td>3.305199e+03</td>\n",
       "      <td>3085.478</td>\n",
       "    </tr>\n",
       "    <tr>\n",
       "      <th>75%</th>\n",
       "      <td>8158.010</td>\n",
       "      <td>8162.850</td>\n",
       "      <td>8152.790</td>\n",
       "      <td>8157.310</td>\n",
       "      <td>7.300</td>\n",
       "      <td>2.158297e+04</td>\n",
       "      <td>8157.964</td>\n",
       "    </tr>\n",
       "    <tr>\n",
       "      <th>max</th>\n",
       "      <td>28997.380</td>\n",
       "      <td>29010.320</td>\n",
       "      <td>28963.660</td>\n",
       "      <td>28997.380</td>\n",
       "      <td>5853.852</td>\n",
       "      <td>1.044599e+07</td>\n",
       "      <td>28985.886</td>\n",
       "    </tr>\n",
       "  </tbody>\n",
       "</table>\n",
       "</div>"
      ],
      "text/plain": [
       "              Open         High          Low        Close  Volume_(BTC)  \\\n",
       "count  3484305.000  3484305.000  3484305.000  3484305.000   3484305.000   \n",
       "mean      4570.658     4573.721     4567.413     4570.624         9.423   \n",
       "std       4775.105     4778.620     4771.352     4775.094        31.013   \n",
       "min          3.800        3.800        1.500        1.500         0.000   \n",
       "25%        432.190      432.430      432.000      432.200         0.392   \n",
       "50%       3085.010     3093.250     3078.010     3084.410         1.937   \n",
       "75%       8158.010     8162.850     8152.790     8157.310         7.300   \n",
       "max      28997.380    29010.320    28963.660    28997.380      5853.852   \n",
       "\n",
       "       Volume_(Currency)  Weighted_Price  \n",
       "count       3.484305e+06     3484305.000  \n",
       "mean        3.315691e+04        4570.625  \n",
       "std         1.129107e+05        4775.090  \n",
       "min         0.000000e+00           3.800  \n",
       "25%         4.147940e+02         432.175  \n",
       "50%         3.305199e+03        3085.478  \n",
       "75%         2.158297e+04        8157.964  \n",
       "max         1.044599e+07       28985.886  "
      ]
     },
     "execution_count": 7,
     "metadata": {},
     "output_type": "execute_result"
    }
   ],
   "source": [
    "raw_data_bitcoin.select_dtypes(include=['number']).describe().round(decimals = 3)"
   ]
  }
 ],
 "metadata": {
  "kernelspec": {
   "display_name": "Python 3",
   "language": "python",
   "name": "python3"
  },
  "language_info": {
   "codemirror_mode": {
    "name": "ipython",
    "version": 3
   },
   "file_extension": ".py",
   "mimetype": "text/x-python",
   "name": "python",
   "nbconvert_exporter": "python",
   "pygments_lexer": "ipython3",
   "version": "3.8.5"
  }
 },
 "nbformat": 4,
 "nbformat_minor": 4
}
